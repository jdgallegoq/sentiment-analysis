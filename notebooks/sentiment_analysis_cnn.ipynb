{
 "cells": [
  {
   "cell_type": "markdown",
   "metadata": {},
   "source": [
    "# Sentiment Analysis CNN\n",
    "Use an CNN to predict sentiments using tweets."
   ]
  },
  {
   "cell_type": "code",
   "execution_count": 1,
   "metadata": {},
   "outputs": [],
   "source": [
    "import re\n",
    "import pandas as pd\n",
    "import numpy as np\n",
    "import matplotlib.pyplot as plt\n",
    "\n",
    "pd.set_option('display.max_columns', None)\n",
    "%matplotlib inline"
   ]
  },
  {
   "cell_type": "code",
   "execution_count": 2,
   "metadata": {},
   "outputs": [],
   "source": [
    "# s3 module importing\n",
    "import sys\n",
    "sys.path.append('..')\n",
    "from utils.s3_class import S3Functions\n",
    "from utils.utils_funcs import cleaner, classify\n",
    "\n",
    "s3_funcs = S3Functions(bucket_name='jdgallegoq-sentiment-analysis')"
   ]
  },
  {
   "cell_type": "code",
   "execution_count": 3,
   "metadata": {},
   "outputs": [
    {
     "name": "stdout",
     "output_type": "stream",
     "text": [
      "<class 'pandas.core.frame.DataFrame'>\n",
      "RangeIndex: 7920 entries, 0 to 7919\n",
      "Data columns (total 3 columns):\n",
      " #   Column  Non-Null Count  Dtype \n",
      "---  ------  --------------  ----- \n",
      " 0   id      7920 non-null   int64 \n",
      " 1   label   7920 non-null   int64 \n",
      " 2   tweet   7920 non-null   object\n",
      "dtypes: int64(2), object(1)\n",
      "memory usage: 185.8+ KB\n",
      "None\n",
      "<class 'pandas.core.frame.DataFrame'>\n",
      "RangeIndex: 1953 entries, 0 to 1952\n",
      "Data columns (total 2 columns):\n",
      " #   Column  Non-Null Count  Dtype \n",
      "---  ------  --------------  ----- \n",
      " 0   id      1953 non-null   int64 \n",
      " 1   tweet   1953 non-null   object\n",
      "dtypes: int64(1), object(1)\n",
      "memory usage: 30.6+ KB\n",
      "None\n"
     ]
    }
   ],
   "source": [
    "# load training data\n",
    "train = pd.read_csv(\n",
    "    s3_funcs.read_object(key='train_2kmZucJ.csv.xls')\n",
    ")\n",
    "print(train.info())\n",
    "test = pd.read_csv(\n",
    "    s3_funcs.read_object(key='test_12QyDcx.csv.xls')\n",
    ")\n",
    "print(test.info())"
   ]
  },
  {
   "cell_type": "code",
   "execution_count": 4,
   "metadata": {},
   "outputs": [
    {
     "data": {
      "text/html": [
       "<div>\n",
       "<style scoped>\n",
       "    .dataframe tbody tr th:only-of-type {\n",
       "        vertical-align: middle;\n",
       "    }\n",
       "\n",
       "    .dataframe tbody tr th {\n",
       "        vertical-align: top;\n",
       "    }\n",
       "\n",
       "    .dataframe thead th {\n",
       "        text-align: right;\n",
       "    }\n",
       "</style>\n",
       "<table border=\"1\" class=\"dataframe\">\n",
       "  <thead>\n",
       "    <tr style=\"text-align: right;\">\n",
       "      <th></th>\n",
       "      <th>id</th>\n",
       "      <th>label</th>\n",
       "      <th>tweet</th>\n",
       "    </tr>\n",
       "  </thead>\n",
       "  <tbody>\n",
       "    <tr>\n",
       "      <th>4357</th>\n",
       "      <td>4358</td>\n",
       "      <td>0</td>\n",
       "      <td>Cool girls for you! http://ow.ly/K7W8307ox4a #...</td>\n",
       "    </tr>\n",
       "    <tr>\n",
       "      <th>4857</th>\n",
       "      <td>4858</td>\n",
       "      <td>0</td>\n",
       "      <td>Follow @capetownsup on Instagram http://mf.tt/...</td>\n",
       "    </tr>\n",
       "    <tr>\n",
       "      <th>1485</th>\n",
       "      <td>1486</td>\n",
       "      <td>0</td>\n",
       "      <td>More than happy &lt;3 / #Samsung #Galaxy #S3 #Gal...</td>\n",
       "    </tr>\n",
       "    <tr>\n",
       "      <th>3872</th>\n",
       "      <td>3873</td>\n",
       "      <td>0</td>\n",
       "      <td>Charge your device wirelessly. Available at ou...</td>\n",
       "    </tr>\n",
       "  </tbody>\n",
       "</table>\n",
       "</div>"
      ],
      "text/plain": [
       "        id  label                                              tweet\n",
       "4357  4358      0  Cool girls for you! http://ow.ly/K7W8307ox4a #...\n",
       "4857  4858      0  Follow @capetownsup on Instagram http://mf.tt/...\n",
       "1485  1486      0  More than happy <3 / #Samsung #Galaxy #S3 #Gal...\n",
       "3872  3873      0  Charge your device wirelessly. Available at ou..."
      ]
     },
     "metadata": {},
     "output_type": "display_data"
    }
   ],
   "source": [
    "# explore data\n",
    "display(train.sample(4))"
   ]
  },
  {
   "cell_type": "code",
   "execution_count": 5,
   "metadata": {},
   "outputs": [],
   "source": [
    "# text cleaning\n",
    "train['tweet_cleaned'] = train['tweet'].apply(cleaner)\n",
    "test['tweet_cleaned'] = test['tweet'].apply(cleaner)"
   ]
  },
  {
   "cell_type": "code",
   "execution_count": 6,
   "metadata": {},
   "outputs": [
    {
     "data": {
      "text/html": [
       "<div>\n",
       "<style scoped>\n",
       "    .dataframe tbody tr th:only-of-type {\n",
       "        vertical-align: middle;\n",
       "    }\n",
       "\n",
       "    .dataframe tbody tr th {\n",
       "        vertical-align: top;\n",
       "    }\n",
       "\n",
       "    .dataframe thead th {\n",
       "        text-align: right;\n",
       "    }\n",
       "</style>\n",
       "<table border=\"1\" class=\"dataframe\">\n",
       "  <thead>\n",
       "    <tr style=\"text-align: right;\">\n",
       "      <th></th>\n",
       "      <th>id</th>\n",
       "      <th>label</th>\n",
       "      <th>tweet</th>\n",
       "      <th>tweet_cleaned</th>\n",
       "    </tr>\n",
       "  </thead>\n",
       "  <tbody>\n",
       "    <tr>\n",
       "      <th>560</th>\n",
       "      <td>561</td>\n",
       "      <td>1</td>\n",
       "      <td>Oh thanks apple you wiped my phone said that e...</td>\n",
       "      <td>oh thanks apple you wiped my phone said that e...</td>\n",
       "    </tr>\n",
       "    <tr>\n",
       "      <th>5736</th>\n",
       "      <td>5737</td>\n",
       "      <td>0</td>\n",
       "      <td>Photo: #my #sony #live #watch #finally #on #me...</td>\n",
       "      <td>photo my sony live watch finally on me hands i...</td>\n",
       "    </tr>\n",
       "    <tr>\n",
       "      <th>7809</th>\n",
       "      <td>7810</td>\n",
       "      <td>0</td>\n",
       "      <td>I buy all the newest gadgets and $&amp;@*# from ap...</td>\n",
       "      <td>i buy all the newest gadgets and from apple i ...</td>\n",
       "    </tr>\n",
       "    <tr>\n",
       "      <th>6128</th>\n",
       "      <td>6129</td>\n",
       "      <td>0</td>\n",
       "      <td>#Aruba #aruba #travel #travelblogger #blogger ...</td>\n",
       "      <td>aruba aruba travel travelblogger blogger vacat...</td>\n",
       "    </tr>\n",
       "  </tbody>\n",
       "</table>\n",
       "</div>"
      ],
      "text/plain": [
       "        id  label                                              tweet  \\\n",
       "560    561      1  Oh thanks apple you wiped my phone said that e...   \n",
       "5736  5737      0  Photo: #my #sony #live #watch #finally #on #me...   \n",
       "7809  7810      0  I buy all the newest gadgets and $&@*# from ap...   \n",
       "6128  6129      0  #Aruba #aruba #travel #travelblogger #blogger ...   \n",
       "\n",
       "                                          tweet_cleaned  \n",
       "560   oh thanks apple you wiped my phone said that e...  \n",
       "5736  photo my sony live watch finally on me hands i...  \n",
       "7809  i buy all the newest gadgets and from apple i ...  \n",
       "6128  aruba aruba travel travelblogger blogger vacat...  "
      ]
     },
     "metadata": {},
     "output_type": "display_data"
    }
   ],
   "source": [
    "# explore again\n",
    "display(train.sample(4))"
   ]
  },
  {
   "cell_type": "code",
   "execution_count": 7,
   "metadata": {},
   "outputs": [
    {
     "data": {
      "text/plain": [
       "0    5894\n",
       "1    2026\n",
       "Name: label, dtype: int64"
      ]
     },
     "execution_count": 7,
     "metadata": {},
     "output_type": "execute_result"
    }
   ],
   "source": [
    "# target distribution\n",
    "train.label.value_counts()"
   ]
  },
  {
   "cell_type": "code",
   "execution_count": 8,
   "metadata": {},
   "outputs": [],
   "source": [
    "from sklearn.model_selection import train_test_split\n",
    "\n",
    "X_train, X_val, y_train, y_val = train_test_split(\n",
    "    train.tweet_cleaned.values,\n",
    "    train.label.values,\n",
    "    test_size=0.2,\n",
    "    random_state=42,\n",
    "    shuffle=True\n",
    ")"
   ]
  },
  {
   "cell_type": "code",
   "execution_count": 9,
   "metadata": {},
   "outputs": [],
   "source": [
    "from keras.preprocessing.text import Tokenizer\n",
    "from keras.preprocessing.sequence import pad_sequences"
   ]
  },
  {
   "cell_type": "code",
   "execution_count": 10,
   "metadata": {},
   "outputs": [
    {
     "data": {
      "text/plain": [
       "19428"
      ]
     },
     "execution_count": 10,
     "metadata": {},
     "output_type": "execute_result"
    }
   ],
   "source": [
    "# text representation\n",
    "x_tokenizer = Tokenizer()\n",
    "x_tokenizer.fit_on_texts(X_train)\n",
    "\n",
    "# unique tokens in corpus\n",
    "len(x_tokenizer.word_index)"
   ]
  },
  {
   "cell_type": "code",
   "execution_count": 11,
   "metadata": {},
   "outputs": [
    {
     "name": "stdout",
     "output_type": "stream",
     "text": [
      "6003\n"
     ]
    }
   ],
   "source": [
    "# filter rare tokens\n",
    "threshold = 1\n",
    "c = 0\n",
    "for key, value in x_tokenizer.word_counts.items():\n",
    "    if value > threshold:\n",
    "        c+=1\n",
    "print(c)"
   ]
  },
  {
   "cell_type": "code",
   "execution_count": 12,
   "metadata": {},
   "outputs": [],
   "source": [
    "# define tokenizer knowing the number of words to keep\n",
    "x_tokenizer = Tokenizer(\n",
    "    num_words=c,\n",
    "    oov_token='unk'\n",
    ")\n",
    "x_tokenizer.fit_on_texts(X_train)"
   ]
  },
  {
   "cell_type": "code",
   "execution_count": 13,
   "metadata": {},
   "outputs": [
    {
     "data": {
      "text/plain": [
       "count    6336.000000\n",
       "mean       20.146149\n",
       "std         6.459303\n",
       "min         1.000000\n",
       "25%        17.000000\n",
       "50%        19.000000\n",
       "75%        22.000000\n",
       "max        59.000000\n",
       "dtype: float64"
      ]
     },
     "execution_count": 13,
     "metadata": {},
     "output_type": "execute_result"
    }
   ],
   "source": [
    "# explore some stats on tweet lenght to fix a max lenght for\n",
    "# padding sequences\n",
    "pd.Series([len(t.split()) for t in X_train]).describe()"
   ]
  },
  {
   "cell_type": "code",
   "execution_count": 14,
   "metadata": {},
   "outputs": [],
   "source": [
    "# pad sequences\n",
    "max_len = 30\n",
    "X_train_seq = x_tokenizer.texts_to_sequences(X_train)\n",
    "X_train_seq = pad_sequences(X_train_seq, padding='post', maxlen=max_len)\n",
    "X_val_seq = x_tokenizer.texts_to_sequences(X_val)\n",
    "X_val_seq = pad_sequences(X_val_seq, padding='post', maxlen=max_len)"
   ]
  },
  {
   "cell_type": "code",
   "execution_count": 15,
   "metadata": {},
   "outputs": [],
   "source": [
    "# model architecture\n",
    "from keras.models import Sequential\n",
    "from keras.layers import (\n",
    "    Dense,\n",
    "    Embedding,\n",
    "    Conv1D,\n",
    "    Dropout,\n",
    "    GlobalMaxPooling1D\n",
    ")\n",
    "from keras.optimizers import Adam\n",
    "from keras.callbacks import ModelCheckpoint, EarlyStopping"
   ]
  },
  {
   "cell_type": "code",
   "execution_count": 16,
   "metadata": {},
   "outputs": [],
   "source": [
    "# get vocab size to fix the embedding layer size\n",
    "x_voc_size = x_tokenizer.num_words + 1"
   ]
  },
  {
   "cell_type": "code",
   "execution_count": 17,
   "metadata": {},
   "outputs": [
    {
     "name": "stdout",
     "output_type": "stream",
     "text": [
      "Model: \"sequential\"\n",
      "_________________________________________________________________\n",
      " Layer (type)                Output Shape              Param #   \n",
      "=================================================================\n",
      " embedding (Embedding)       (None, 30, 50)            300200    \n",
      "                                                                 \n",
      " conv1d (Conv1D)             (None, 30, 64)            9664      \n",
      "                                                                 \n",
      " dropout (Dropout)           (None, 30, 64)            0         \n",
      "                                                                 \n",
      " global_max_pooling1d (Glob  (None, 64)                0         \n",
      " alMaxPooling1D)                                                 \n",
      "                                                                 \n",
      " dense (Dense)               (None, 128)               8320      \n",
      "                                                                 \n",
      " dense_1 (Dense)             (None, 1)                 129       \n",
      "                                                                 \n",
      "=================================================================\n",
      "Total params: 318313 (1.21 MB)\n",
      "Trainable params: 318313 (1.21 MB)\n",
      "Non-trainable params: 0 (0.00 Byte)\n",
      "_________________________________________________________________\n"
     ]
    }
   ],
   "source": [
    "model = Sequential()\n",
    "model.add(Embedding(\n",
    "    x_voc_size,\n",
    "    50,\n",
    "    input_shape=(max_len,),\n",
    "    mask_zero=True\n",
    "))\n",
    "model.add(Conv1D(64, 3, padding='same'))\n",
    "model.add(Dropout(0.1))\n",
    "model.add(GlobalMaxPooling1D())\n",
    "model.add(Dense(128, activation='relu'))\n",
    "model.add(Dense(1, activation='sigmoid'))\n",
    "\n",
    "model.summary()"
   ]
  },
  {
   "cell_type": "code",
   "execution_count": 19,
   "metadata": {},
   "outputs": [
    {
     "name": "stderr",
     "output_type": "stream",
     "text": [
      "WARNING:absl:At this time, the v2.11+ optimizer `tf.keras.optimizers.Adam` runs slowly on M1/M2 Macs, please use the legacy Keras optimizer instead, located at `tf.keras.optimizers.legacy.Adam`.\n",
      "WARNING:absl:There is a known slowdown when using v2.11+ Keras optimizers on M1/M2 Macs. Falling back to the legacy Keras optimizer, i.e., `tf.keras.optimizers.legacy.Adam`.\n"
     ]
    }
   ],
   "source": [
    "# define optimizer\n",
    "adam = Adam(learning_rate=1e-3, clipvalue=1)\n",
    "\n",
    "# define callbacks\n",
    "early_stopping = EarlyStopping(\n",
    "    monitor='val_loss',\n",
    "    min_delta=0.01,\n",
    "    patience=15,\n",
    "    verbose=1,\n",
    "    mode='min'\n",
    ")\n",
    "model_checkpoint = ModelCheckpoint(\n",
    "    filepath='best_weights_cnn.best.hdf5',\n",
    "    monitor='val_loss',\n",
    "    save_best_only=True,\n",
    "    mode='min',\n",
    "    verbose=1\n",
    ")\n",
    "# compile\n",
    "model.compile(\n",
    "    optimizer=adam,\n",
    "    loss='binary_crossentropy'\n",
    ")\n",
    "\n",
    "callbacks = [early_stopping, model_checkpoint]"
   ]
  },
  {
   "cell_type": "code",
   "execution_count": 20,
   "metadata": {},
   "outputs": [
    {
     "name": "stdout",
     "output_type": "stream",
     "text": [
      "Epoch 1/150\n",
      "39/50 [======================>.......] - ETA: 0s - loss: 0.5477\n",
      "Epoch 1: val_loss improved from inf to 0.40241, saving model to best_weights_cnn.best.hdf5\n",
      "50/50 [==============================] - 1s 6ms/step - loss: 0.5230 - val_loss: 0.4024\n",
      "Epoch 2/150\n",
      "40/50 [=======================>......] - ETA: 0s - loss: 0.3354"
     ]
    },
    {
     "name": "stderr",
     "output_type": "stream",
     "text": [
      "/opt/homebrew/Caskroom/miniforge/base/envs/tensorflow/lib/python3.8/site-packages/keras/src/engine/training.py:3000: UserWarning: You are saving your model as an HDF5 file via `model.save()`. This file format is considered legacy. We recommend using instead the native Keras format, e.g. `model.save('my_model.keras')`.\n",
      "  saving_api.save_model(\n"
     ]
    },
    {
     "name": "stdout",
     "output_type": "stream",
     "text": [
      "\n",
      "Epoch 2: val_loss improved from 0.40241 to 0.28345, saving model to best_weights_cnn.best.hdf5\n",
      "50/50 [==============================] - 0s 5ms/step - loss: 0.3197 - val_loss: 0.2835\n",
      "Epoch 3/150\n",
      "45/50 [==========================>...] - ETA: 0s - loss: 0.2166\n",
      "Epoch 3: val_loss improved from 0.28345 to 0.25187, saving model to best_weights_cnn.best.hdf5\n",
      "50/50 [==============================] - 0s 6ms/step - loss: 0.2128 - val_loss: 0.2519\n",
      "Epoch 4/150\n",
      "46/50 [==========================>...] - ETA: 0s - loss: 0.1409\n",
      "Epoch 4: val_loss did not improve from 0.25187\n",
      "50/50 [==============================] - 0s 8ms/step - loss: 0.1409 - val_loss: 0.2932\n",
      "Epoch 5/150\n",
      "50/50 [==============================] - ETA: 0s - loss: 0.0932\n",
      "Epoch 5: val_loss did not improve from 0.25187\n",
      "50/50 [==============================] - 0s 8ms/step - loss: 0.0932 - val_loss: 0.3487\n",
      "Epoch 6/150\n",
      "47/50 [===========================>..] - ETA: 0s - loss: 0.0594\n",
      "Epoch 6: val_loss did not improve from 0.25187\n",
      "50/50 [==============================] - 0s 9ms/step - loss: 0.0603 - val_loss: 0.3964\n",
      "Epoch 7/150\n",
      "49/50 [============================>.] - ETA: 0s - loss: 0.0405\n",
      "Epoch 7: val_loss did not improve from 0.25187\n",
      "50/50 [==============================] - 0s 6ms/step - loss: 0.0402 - val_loss: 0.4842\n",
      "Epoch 8/150\n",
      "49/50 [============================>.] - ETA: 0s - loss: 0.0258\n",
      "Epoch 8: val_loss did not improve from 0.25187\n",
      "50/50 [==============================] - 0s 6ms/step - loss: 0.0257 - val_loss: 0.5266\n",
      "Epoch 9/150\n",
      "46/50 [==========================>...] - ETA: 0s - loss: 0.0176\n",
      "Epoch 9: val_loss did not improve from 0.25187\n",
      "50/50 [==============================] - 0s 7ms/step - loss: 0.0184 - val_loss: 0.5477\n",
      "Epoch 10/150\n",
      "44/50 [=========================>....] - ETA: 0s - loss: 0.0136\n",
      "Epoch 10: val_loss did not improve from 0.25187\n",
      "50/50 [==============================] - 0s 9ms/step - loss: 0.0134 - val_loss: 0.6017\n",
      "Epoch 11/150\n",
      "41/50 [=======================>......] - ETA: 0s - loss: 0.0092\n",
      "Epoch 11: val_loss did not improve from 0.25187\n",
      "50/50 [==============================] - 0s 6ms/step - loss: 0.0089 - val_loss: 0.6352\n",
      "Epoch 12/150\n",
      "41/50 [=======================>......] - ETA: 0s - loss: 0.0072\n",
      "Epoch 12: val_loss did not improve from 0.25187\n",
      "50/50 [==============================] - 0s 6ms/step - loss: 0.0075 - val_loss: 0.6775\n",
      "Epoch 13/150\n",
      "47/50 [===========================>..] - ETA: 0s - loss: 0.0046\n",
      "Epoch 13: val_loss did not improve from 0.25187\n",
      "50/50 [==============================] - 0s 5ms/step - loss: 0.0057 - val_loss: 0.7165\n",
      "Epoch 14/150\n",
      "44/50 [=========================>....] - ETA: 0s - loss: 0.0036\n",
      "Epoch 14: val_loss did not improve from 0.25187\n",
      "50/50 [==============================] - 0s 5ms/step - loss: 0.0042 - val_loss: 0.7189\n",
      "Epoch 15/150\n",
      "49/50 [============================>.] - ETA: 0s - loss: 0.0032\n",
      "Epoch 15: val_loss did not improve from 0.25187\n",
      "50/50 [==============================] - 0s 5ms/step - loss: 0.0032 - val_loss: 0.7433\n",
      "Epoch 16/150\n",
      "47/50 [===========================>..] - ETA: 0s - loss: 0.0032  \n",
      "Epoch 16: val_loss did not improve from 0.25187\n",
      "50/50 [==============================] - 0s 5ms/step - loss: 0.0031 - val_loss: 0.7776\n",
      "Epoch 17/150\n",
      "48/50 [===========================>..] - ETA: 0s - loss: 0.0035 \n",
      "Epoch 17: val_loss did not improve from 0.25187\n",
      "50/50 [==============================] - 0s 5ms/step - loss: 0.0034 - val_loss: 0.7522\n",
      "Epoch 18/150\n",
      "40/50 [=======================>......] - ETA: 0s - loss: 0.0026\n",
      "Epoch 18: val_loss did not improve from 0.25187\n",
      "50/50 [==============================] - 0s 7ms/step - loss: 0.0027 - val_loss: 0.8094\n",
      "Epoch 18: early stopping\n"
     ]
    }
   ],
   "source": [
    "# train\n",
    "model_history = model.fit(\n",
    "    X_train_seq,\n",
    "    y_train,\n",
    "    batch_size=128,\n",
    "    epochs=150,\n",
    "    verbose=1,\n",
    "    validation_data=(X_val_seq, y_val),\n",
    "    callbacks=callbacks\n",
    ")"
   ]
  },
  {
   "cell_type": "code",
   "execution_count": 21,
   "metadata": {},
   "outputs": [
    {
     "name": "stdout",
     "output_type": "stream",
     "text": [
      "50/50 [==============================] - 0s 581us/step\n"
     ]
    },
    {
     "data": {
      "text/plain": [
       "array([[0.00105089],\n",
       "       [0.3672048 ],\n",
       "       [0.00553458],\n",
       "       [0.6922485 ],\n",
       "       [0.02518514]], dtype=float32)"
      ]
     },
     "execution_count": 21,
     "metadata": {},
     "output_type": "execute_result"
    }
   ],
   "source": [
    "# model eval\n",
    "model.load_weights(\"best_weights_cnn.best.hdf5\")\n",
    "\n",
    "# predict\n",
    "pred_prob = model.predict(X_val_seq)\n",
    "pred_prob[:5]"
   ]
  },
  {
   "cell_type": "code",
   "execution_count": 22,
   "metadata": {},
   "outputs": [],
   "source": [
    "from sklearn import metrics"
   ]
  },
  {
   "cell_type": "code",
   "execution_count": 23,
   "metadata": {},
   "outputs": [
    {
     "data": {
      "text/plain": [
       "0.25"
      ]
     },
     "execution_count": 23,
     "metadata": {},
     "output_type": "execute_result"
    }
   ],
   "source": [
    "# get best threshold value\n",
    "thres = np.arange(0, 0.5, 0.01)\n",
    "\n",
    "score = []\n",
    "y_true = np.array(y_val).ravel()\n",
    "for t in thres:\n",
    "    y_pred_seq = classify(pred_prob, t)\n",
    "    y_pred = np.array(y_pred_seq).ravel()\n",
    "    score.append(metrics.f1_score(y_true, y_pred))\n",
    "\n",
    "# find optimum\n",
    "opt = thres[score.index(max(score))]\n",
    "opt"
   ]
  },
  {
   "cell_type": "code",
   "execution_count": 24,
   "metadata": {},
   "outputs": [
    {
     "name": "stdout",
     "output_type": "stream",
     "text": [
      "              precision    recall  f1-score   support\n",
      "\n",
      "           0       0.97      0.87      0.92      1152\n",
      "           1       0.72      0.94      0.82       432\n",
      "\n",
      "    accuracy                           0.89      1584\n",
      "   macro avg       0.85      0.90      0.87      1584\n",
      "weighted avg       0.91      0.89      0.89      1584\n",
      "\n"
     ]
    }
   ],
   "source": [
    "# get metrics based on optimum\n",
    "y_pred_seq = classify(pred_prob, opt)\n",
    "y_pred = np.array(y_pred_seq).ravel()\n",
    "print(metrics.classification_report(y_true, y_pred))"
   ]
  },
  {
   "cell_type": "code",
   "execution_count": null,
   "metadata": {},
   "outputs": [],
   "source": []
  }
 ],
 "metadata": {
  "kernelspec": {
   "display_name": "tensorflow",
   "language": "python",
   "name": "python3"
  },
  "language_info": {
   "codemirror_mode": {
    "name": "ipython",
    "version": 3
   },
   "file_extension": ".py",
   "mimetype": "text/x-python",
   "name": "python",
   "nbconvert_exporter": "python",
   "pygments_lexer": "ipython3",
   "version": "3.8.13"
  }
 },
 "nbformat": 4,
 "nbformat_minor": 2
}
