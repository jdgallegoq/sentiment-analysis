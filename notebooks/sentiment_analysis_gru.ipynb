{
 "cells": [
  {
   "cell_type": "markdown",
   "metadata": {},
   "source": [
    "# Sentiment Analysis GRU\n",
    "Use an GRU RNN to predict sentiments using tweets."
   ]
  },
  {
   "cell_type": "code",
   "execution_count": 1,
   "metadata": {},
   "outputs": [],
   "source": [
    "import re\n",
    "import pandas as pd\n",
    "import numpy as np\n",
    "import matplotlib.pyplot as plt\n",
    "\n",
    "pd.set_option('display.max_columns', None)\n",
    "%matplotlib inline"
   ]
  },
  {
   "cell_type": "code",
   "execution_count": 2,
   "metadata": {},
   "outputs": [],
   "source": [
    "# s3 module importing\n",
    "import sys\n",
    "sys.path.append('..')\n",
    "from utils.s3_class import S3Functions\n",
    "from utils.utils_funcs import cleaner, classify\n",
    "\n",
    "s3_funcs = S3Functions(bucket_name='jdgallegoq-sentiment-analysis')"
   ]
  },
  {
   "cell_type": "code",
   "execution_count": 3,
   "metadata": {},
   "outputs": [
    {
     "name": "stdout",
     "output_type": "stream",
     "text": [
      "<class 'pandas.core.frame.DataFrame'>\n",
      "RangeIndex: 7920 entries, 0 to 7919\n",
      "Data columns (total 3 columns):\n",
      " #   Column  Non-Null Count  Dtype \n",
      "---  ------  --------------  ----- \n",
      " 0   id      7920 non-null   int64 \n",
      " 1   label   7920 non-null   int64 \n",
      " 2   tweet   7920 non-null   object\n",
      "dtypes: int64(2), object(1)\n",
      "memory usage: 185.8+ KB\n",
      "None\n",
      "<class 'pandas.core.frame.DataFrame'>\n",
      "RangeIndex: 1953 entries, 0 to 1952\n",
      "Data columns (total 2 columns):\n",
      " #   Column  Non-Null Count  Dtype \n",
      "---  ------  --------------  ----- \n",
      " 0   id      1953 non-null   int64 \n",
      " 1   tweet   1953 non-null   object\n",
      "dtypes: int64(1), object(1)\n",
      "memory usage: 30.6+ KB\n",
      "None\n"
     ]
    }
   ],
   "source": [
    "# load training data\n",
    "train = pd.read_csv(\n",
    "    s3_funcs.read_object(key='train_2kmZucJ.csv.xls')\n",
    ")\n",
    "print(train.info())\n",
    "test = pd.read_csv(\n",
    "    s3_funcs.read_object(key='test_12QyDcx.csv.xls')\n",
    ")\n",
    "print(test.info())"
   ]
  },
  {
   "cell_type": "code",
   "execution_count": 4,
   "metadata": {},
   "outputs": [
    {
     "data": {
      "text/html": [
       "<div>\n",
       "<style scoped>\n",
       "    .dataframe tbody tr th:only-of-type {\n",
       "        vertical-align: middle;\n",
       "    }\n",
       "\n",
       "    .dataframe tbody tr th {\n",
       "        vertical-align: top;\n",
       "    }\n",
       "\n",
       "    .dataframe thead th {\n",
       "        text-align: right;\n",
       "    }\n",
       "</style>\n",
       "<table border=\"1\" class=\"dataframe\">\n",
       "  <thead>\n",
       "    <tr style=\"text-align: right;\">\n",
       "      <th></th>\n",
       "      <th>id</th>\n",
       "      <th>label</th>\n",
       "      <th>tweet</th>\n",
       "    </tr>\n",
       "  </thead>\n",
       "  <tbody>\n",
       "    <tr>\n",
       "      <th>2558</th>\n",
       "      <td>2559</td>\n",
       "      <td>0</td>\n",
       "      <td>Came home to a pink case in the post #pink #pl...</td>\n",
       "    </tr>\n",
       "    <tr>\n",
       "      <th>4496</th>\n",
       "      <td>4497</td>\n",
       "      <td>0</td>\n",
       "      <td>My dude @FusRohDave. #comic #bff #bestfriend #...</td>\n",
       "    </tr>\n",
       "    <tr>\n",
       "      <th>6073</th>\n",
       "      <td>6074</td>\n",
       "      <td>0</td>\n",
       "      <td>After reinstalling iTunes 7 times on my comput...</td>\n",
       "    </tr>\n",
       "    <tr>\n",
       "      <th>3844</th>\n",
       "      <td>3845</td>\n",
       "      <td>0</td>\n",
       "      <td>I my #iPhone. It's the purfect way to ignor me...</td>\n",
       "    </tr>\n",
       "  </tbody>\n",
       "</table>\n",
       "</div>"
      ],
      "text/plain": [
       "        id  label                                              tweet\n",
       "2558  2559      0  Came home to a pink case in the post #pink #pl...\n",
       "4496  4497      0  My dude @FusRohDave. #comic #bff #bestfriend #...\n",
       "6073  6074      0  After reinstalling iTunes 7 times on my comput...\n",
       "3844  3845      0  I my #iPhone. It's the purfect way to ignor me..."
      ]
     },
     "metadata": {},
     "output_type": "display_data"
    }
   ],
   "source": [
    "# explore data\n",
    "display(train.sample(4))"
   ]
  },
  {
   "cell_type": "code",
   "execution_count": 5,
   "metadata": {},
   "outputs": [],
   "source": [
    "# text cleaning\n",
    "train['tweet_cleaned'] = train['tweet'].apply(cleaner)\n",
    "test['tweet_cleaned'] = test['tweet'].apply(cleaner)"
   ]
  },
  {
   "cell_type": "code",
   "execution_count": 6,
   "metadata": {},
   "outputs": [
    {
     "data": {
      "text/html": [
       "<div>\n",
       "<style scoped>\n",
       "    .dataframe tbody tr th:only-of-type {\n",
       "        vertical-align: middle;\n",
       "    }\n",
       "\n",
       "    .dataframe tbody tr th {\n",
       "        vertical-align: top;\n",
       "    }\n",
       "\n",
       "    .dataframe thead th {\n",
       "        text-align: right;\n",
       "    }\n",
       "</style>\n",
       "<table border=\"1\" class=\"dataframe\">\n",
       "  <thead>\n",
       "    <tr style=\"text-align: right;\">\n",
       "      <th></th>\n",
       "      <th>id</th>\n",
       "      <th>label</th>\n",
       "      <th>tweet</th>\n",
       "      <th>tweet_cleaned</th>\n",
       "    </tr>\n",
       "  </thead>\n",
       "  <tbody>\n",
       "    <tr>\n",
       "      <th>5857</th>\n",
       "      <td>5858</td>\n",
       "      <td>0</td>\n",
       "      <td>This song makes me happy. #Big #Booty #Bitches...</td>\n",
       "      <td>this song makes me happy big booty bitches i g...</td>\n",
       "    </tr>\n",
       "    <tr>\n",
       "      <th>6904</th>\n",
       "      <td>6905</td>\n",
       "      <td>0</td>\n",
       "      <td>Gain Followers RT This MUST FOLLOW ME I FOLLOW...</td>\n",
       "      <td>gain followers rt this must follow me i follow...</td>\n",
       "    </tr>\n",
       "    <tr>\n",
       "      <th>6900</th>\n",
       "      <td>6901</td>\n",
       "      <td>0</td>\n",
       "      <td>Jaylin making some sandart. #kids #family #bw ...</td>\n",
       "      <td>jaylin making some sandart kids family bw bwlo...</td>\n",
       "    </tr>\n",
       "    <tr>\n",
       "      <th>1323</th>\n",
       "      <td>1324</td>\n",
       "      <td>0</td>\n",
       "      <td>RT @FollowBacg: #i #justinbieber #apple #ipad ...</td>\n",
       "      <td>rt followbacg i justinbieber apple ipad iphone...</td>\n",
       "    </tr>\n",
       "  </tbody>\n",
       "</table>\n",
       "</div>"
      ],
      "text/plain": [
       "        id  label                                              tweet  \\\n",
       "5857  5858      0  This song makes me happy. #Big #Booty #Bitches...   \n",
       "6904  6905      0  Gain Followers RT This MUST FOLLOW ME I FOLLOW...   \n",
       "6900  6901      0  Jaylin making some sandart. #kids #family #bw ...   \n",
       "1323  1324      0  RT @FollowBacg: #i #justinbieber #apple #ipad ...   \n",
       "\n",
       "                                          tweet_cleaned  \n",
       "5857  this song makes me happy big booty bitches i g...  \n",
       "6904  gain followers rt this must follow me i follow...  \n",
       "6900  jaylin making some sandart kids family bw bwlo...  \n",
       "1323  rt followbacg i justinbieber apple ipad iphone...  "
      ]
     },
     "metadata": {},
     "output_type": "display_data"
    }
   ],
   "source": [
    "# explore again\n",
    "display(train.sample(4))"
   ]
  },
  {
   "cell_type": "code",
   "execution_count": 7,
   "metadata": {},
   "outputs": [
    {
     "data": {
      "text/plain": [
       "0    5894\n",
       "1    2026\n",
       "Name: label, dtype: int64"
      ]
     },
     "execution_count": 7,
     "metadata": {},
     "output_type": "execute_result"
    }
   ],
   "source": [
    "# target distribution\n",
    "train.label.value_counts()"
   ]
  },
  {
   "cell_type": "code",
   "execution_count": 9,
   "metadata": {},
   "outputs": [],
   "source": [
    "from sklearn.model_selection import train_test_split\n",
    "\n",
    "X_train, X_val, y_train, y_val = train_test_split(\n",
    "    train.tweet_cleaned.values,\n",
    "    train.label.values,\n",
    "    test_size=0.2,\n",
    "    random_state=42,\n",
    "    shuffle=True\n",
    ")"
   ]
  },
  {
   "cell_type": "code",
   "execution_count": 8,
   "metadata": {},
   "outputs": [],
   "source": [
    "from keras.preprocessing.text import Tokenizer\n",
    "from keras.preprocessing.sequence import pad_sequences"
   ]
  },
  {
   "cell_type": "code",
   "execution_count": 10,
   "metadata": {},
   "outputs": [
    {
     "data": {
      "text/plain": [
       "19428"
      ]
     },
     "execution_count": 10,
     "metadata": {},
     "output_type": "execute_result"
    }
   ],
   "source": [
    "# text representation\n",
    "x_tokenizer = Tokenizer()\n",
    "x_tokenizer.fit_on_texts(X_train)\n",
    "\n",
    "# unique tokens in corpus\n",
    "len(x_tokenizer.word_index)"
   ]
  },
  {
   "cell_type": "code",
   "execution_count": 13,
   "metadata": {},
   "outputs": [
    {
     "name": "stdout",
     "output_type": "stream",
     "text": [
      "6003\n"
     ]
    }
   ],
   "source": [
    "# filter rare tokens\n",
    "threshold = 1\n",
    "c = 0\n",
    "for key, value in x_tokenizer.word_counts.items():\n",
    "    if value > threshold:\n",
    "        c+=1\n",
    "print(c)"
   ]
  },
  {
   "cell_type": "code",
   "execution_count": 14,
   "metadata": {},
   "outputs": [],
   "source": [
    "# define tokenizer knowing the number of words to keep\n",
    "x_tokenizer = Tokenizer(\n",
    "    num_words=c,\n",
    "    oov_token='unk'\n",
    ")\n",
    "x_tokenizer.fit_on_texts(X_train)"
   ]
  },
  {
   "cell_type": "code",
   "execution_count": 15,
   "metadata": {},
   "outputs": [
    {
     "data": {
      "text/plain": [
       "count    6336.000000\n",
       "mean       20.146149\n",
       "std         6.459303\n",
       "min         1.000000\n",
       "25%        17.000000\n",
       "50%        19.000000\n",
       "75%        22.000000\n",
       "max        59.000000\n",
       "dtype: float64"
      ]
     },
     "execution_count": 15,
     "metadata": {},
     "output_type": "execute_result"
    }
   ],
   "source": [
    "# explore some stats on tweet lenght to fix a max lenght for\n",
    "# padding sequences\n",
    "pd.Series([len(t.split()) for t in X_train]).describe()"
   ]
  },
  {
   "cell_type": "code",
   "execution_count": 16,
   "metadata": {},
   "outputs": [],
   "source": [
    "# pad sequences\n",
    "max_len = 30\n",
    "X_train_seq = x_tokenizer.texts_to_sequences(X_train)\n",
    "X_train_seq = pad_sequences(X_train_seq, padding='post', maxlen=max_len)\n",
    "X_val_seq = x_tokenizer.texts_to_sequences(X_val)\n",
    "X_val_seq = pad_sequences(X_val_seq, padding='post', maxlen=max_len)"
   ]
  },
  {
   "cell_type": "code",
   "execution_count": 22,
   "metadata": {},
   "outputs": [],
   "source": [
    "# model architecture\n",
    "from keras.models import Sequential\n",
    "from keras.layers import (\n",
    "    Dense,\n",
    "    Embedding,\n",
    "    GRU\n",
    ")\n",
    "from keras.optimizers import Adam\n",
    "from keras.callbacks import ModelCheckpoint, EarlyStopping"
   ]
  },
  {
   "cell_type": "code",
   "execution_count": 18,
   "metadata": {},
   "outputs": [],
   "source": [
    "# get vocab size to fix the embedding layer size\n",
    "x_voc_size = x_tokenizer.num_words + 1"
   ]
  },
  {
   "cell_type": "code",
   "execution_count": 20,
   "metadata": {},
   "outputs": [
    {
     "name": "stdout",
     "output_type": "stream",
     "text": [
      "Model: \"sequential_1\"\n",
      "_________________________________________________________________\n",
      " Layer (type)                Output Shape              Param #   \n",
      "=================================================================\n",
      " embedding_1 (Embedding)     (None, 30, 50)            300200    \n",
      "                                                                 \n",
      " gru (GRU)                   (None, 128)               69120     \n",
      "                                                                 \n",
      " dense (Dense)               (None, 128)               16512     \n",
      "                                                                 \n",
      " dense_1 (Dense)             (None, 1)                 129       \n",
      "                                                                 \n",
      "=================================================================\n",
      "Total params: 385961 (1.47 MB)\n",
      "Trainable params: 385961 (1.47 MB)\n",
      "Non-trainable params: 0 (0.00 Byte)\n",
      "_________________________________________________________________\n"
     ]
    }
   ],
   "source": [
    "model = Sequential()\n",
    "model.add(Embedding(\n",
    "    x_voc_size,\n",
    "    50,\n",
    "    input_shape=(max_len,),\n",
    "    mask_zero=True\n",
    "))\n",
    "model.add(GRU(128,))\n",
    "model.add(Dense(128, activation='relu'))\n",
    "model.add(Dense(1, activation='sigmoid'))\n",
    "\n",
    "model.summary()"
   ]
  },
  {
   "cell_type": "code",
   "execution_count": 23,
   "metadata": {},
   "outputs": [
    {
     "name": "stderr",
     "output_type": "stream",
     "text": [
      "WARNING:absl:At this time, the v2.11+ optimizer `tf.keras.optimizers.Adam` runs slowly on M1/M2 Macs, please use the legacy Keras optimizer instead, located at `tf.keras.optimizers.legacy.Adam`.\n",
      "WARNING:absl:There is a known slowdown when using v2.11+ Keras optimizers on M1/M2 Macs. Falling back to the legacy Keras optimizer, i.e., `tf.keras.optimizers.legacy.Adam`.\n"
     ]
    }
   ],
   "source": [
    "# define optimizer\n",
    "adam = Adam(learning_rate=1e-3, clipvalue=1)\n",
    "\n",
    "# define callbacks\n",
    "early_stopping = EarlyStopping(\n",
    "    monitor='val_loss',\n",
    "    min_delta=0.01,\n",
    "    patience=15,\n",
    "    verbose=1,\n",
    "    mode='min'\n",
    ")\n",
    "model_checkpoint = ModelCheckpoint(\n",
    "    filepath='best_weights.best.hdf5',\n",
    "    monitor='val_loss',\n",
    "    save_best_only=True,\n",
    "    mode='min',\n",
    "    verbose=1\n",
    ")\n",
    "# compile\n",
    "model.compile(\n",
    "    optimizer=adam,\n",
    "    loss='binary_crossentropy'\n",
    ")\n",
    "\n",
    "callbacks = [early_stopping, model_checkpoint]"
   ]
  },
  {
   "cell_type": "code",
   "execution_count": 24,
   "metadata": {},
   "outputs": [
    {
     "name": "stdout",
     "output_type": "stream",
     "text": [
      "Epoch 1/150\n",
      "49/50 [============================>.] - ETA: 0s - loss: 0.4515\n",
      "Epoch 1: val_loss improved from inf to 0.28849, saving model to best_weights.best.hdf5\n",
      "50/50 [==============================] - 4s 50ms/step - loss: 0.4511 - val_loss: 0.2885\n",
      "Epoch 2/150\n",
      " 3/50 [>.............................] - ETA: 1s - loss: 0.2736"
     ]
    },
    {
     "name": "stderr",
     "output_type": "stream",
     "text": [
      "/opt/homebrew/Caskroom/miniforge/base/envs/tensorflow/lib/python3.8/site-packages/keras/src/engine/training.py:3000: UserWarning: You are saving your model as an HDF5 file via `model.save()`. This file format is considered legacy. We recommend using instead the native Keras format, e.g. `model.save('my_model.keras')`.\n",
      "  saving_api.save_model(\n"
     ]
    },
    {
     "name": "stdout",
     "output_type": "stream",
     "text": [
      "49/50 [============================>.] - ETA: 0s - loss: 0.2283\n",
      "Epoch 2: val_loss improved from 0.28849 to 0.25670, saving model to best_weights.best.hdf5\n",
      "50/50 [==============================] - 2s 41ms/step - loss: 0.2281 - val_loss: 0.2567\n",
      "Epoch 3/150\n",
      "50/50 [==============================] - ETA: 0s - loss: 0.1628\n",
      "Epoch 3: val_loss did not improve from 0.25670\n",
      "50/50 [==============================] - 2s 42ms/step - loss: 0.1628 - val_loss: 0.2680\n",
      "Epoch 4/150\n",
      "50/50 [==============================] - ETA: 0s - loss: 0.1278\n",
      "Epoch 4: val_loss did not improve from 0.25670\n",
      "50/50 [==============================] - 2s 46ms/step - loss: 0.1278 - val_loss: 0.2975\n",
      "Epoch 5/150\n",
      "49/50 [============================>.] - ETA: 0s - loss: 0.0878\n",
      "Epoch 5: val_loss did not improve from 0.25670\n",
      "50/50 [==============================] - 2s 47ms/step - loss: 0.0874 - val_loss: 0.4235\n",
      "Epoch 6/150\n",
      "50/50 [==============================] - ETA: 0s - loss: 0.0677\n",
      "Epoch 6: val_loss did not improve from 0.25670\n",
      "50/50 [==============================] - 2s 40ms/step - loss: 0.0677 - val_loss: 0.5532\n",
      "Epoch 7/150\n",
      "50/50 [==============================] - ETA: 0s - loss: 0.0530\n",
      "Epoch 7: val_loss did not improve from 0.25670\n",
      "50/50 [==============================] - 2s 40ms/step - loss: 0.0530 - val_loss: 0.5502\n",
      "Epoch 8/150\n",
      "49/50 [============================>.] - ETA: 0s - loss: 0.0446\n",
      "Epoch 8: val_loss did not improve from 0.25670\n",
      "50/50 [==============================] - 2s 41ms/step - loss: 0.0442 - val_loss: 0.6224\n",
      "Epoch 9/150\n",
      "50/50 [==============================] - ETA: 0s - loss: 0.0332\n",
      "Epoch 9: val_loss did not improve from 0.25670\n",
      "50/50 [==============================] - 2s 43ms/step - loss: 0.0332 - val_loss: 0.8360\n",
      "Epoch 10/150\n",
      "50/50 [==============================] - ETA: 0s - loss: 0.0342\n",
      "Epoch 10: val_loss did not improve from 0.25670\n",
      "50/50 [==============================] - 2s 43ms/step - loss: 0.0342 - val_loss: 0.7131\n",
      "Epoch 11/150\n",
      "49/50 [============================>.] - ETA: 0s - loss: 0.0273\n",
      "Epoch 11: val_loss did not improve from 0.25670\n",
      "50/50 [==============================] - 2s 42ms/step - loss: 0.0273 - val_loss: 0.7258\n",
      "Epoch 12/150\n",
      "50/50 [==============================] - ETA: 0s - loss: 0.0287\n",
      "Epoch 12: val_loss did not improve from 0.25670\n",
      "50/50 [==============================] - 2s 44ms/step - loss: 0.0287 - val_loss: 1.0378\n",
      "Epoch 13/150\n",
      "49/50 [============================>.] - ETA: 0s - loss: 0.0234\n",
      "Epoch 13: val_loss did not improve from 0.25670\n",
      "50/50 [==============================] - 2s 41ms/step - loss: 0.0232 - val_loss: 0.8289\n",
      "Epoch 14/150\n",
      "50/50 [==============================] - ETA: 0s - loss: 0.0195\n",
      "Epoch 14: val_loss did not improve from 0.25670\n",
      "50/50 [==============================] - 2s 42ms/step - loss: 0.0195 - val_loss: 1.0057\n",
      "Epoch 15/150\n",
      "50/50 [==============================] - ETA: 0s - loss: 0.0176\n",
      "Epoch 15: val_loss did not improve from 0.25670\n",
      "50/50 [==============================] - 2s 40ms/step - loss: 0.0176 - val_loss: 1.2739\n",
      "Epoch 16/150\n",
      "49/50 [============================>.] - ETA: 0s - loss: 0.0154\n",
      "Epoch 16: val_loss did not improve from 0.25670\n",
      "50/50 [==============================] - 2s 41ms/step - loss: 0.0158 - val_loss: 0.8902\n",
      "Epoch 17/150\n",
      "50/50 [==============================] - ETA: 0s - loss: 0.0136\n",
      "Epoch 17: val_loss did not improve from 0.25670\n",
      "50/50 [==============================] - 2s 41ms/step - loss: 0.0136 - val_loss: 1.2558\n",
      "Epoch 17: early stopping\n"
     ]
    }
   ],
   "source": [
    "# train\n",
    "model_history = model.fit(\n",
    "    X_train_seq,\n",
    "    y_train,\n",
    "    batch_size=128,\n",
    "    epochs=150,\n",
    "    verbose=1,\n",
    "    validation_data=(X_val_seq, y_val),\n",
    "    callbacks=callbacks\n",
    ")"
   ]
  },
  {
   "cell_type": "code",
   "execution_count": 25,
   "metadata": {},
   "outputs": [
    {
     "name": "stdout",
     "output_type": "stream",
     "text": [
      "50/50 [==============================] - 1s 6ms/step\n"
     ]
    },
    {
     "data": {
      "text/plain": [
       "array([[2.0231753e-05],\n",
       "       [6.3735437e-01],\n",
       "       [3.3466167e-05],\n",
       "       [5.6402409e-01],\n",
       "       [2.2533596e-03]], dtype=float32)"
      ]
     },
     "execution_count": 25,
     "metadata": {},
     "output_type": "execute_result"
    }
   ],
   "source": [
    "# model eval\n",
    "model.load_weights(\"best_weights.best.hdf5\")\n",
    "\n",
    "# predict\n",
    "pred_prob = model.predict(X_val_seq)\n",
    "pred_prob[:5]"
   ]
  },
  {
   "cell_type": "code",
   "execution_count": 26,
   "metadata": {},
   "outputs": [],
   "source": [
    "from sklearn import metrics"
   ]
  },
  {
   "cell_type": "code",
   "execution_count": 27,
   "metadata": {},
   "outputs": [
    {
     "data": {
      "text/plain": [
       "0.44"
      ]
     },
     "execution_count": 27,
     "metadata": {},
     "output_type": "execute_result"
    }
   ],
   "source": [
    "# get best threshold value\n",
    "thres = np.arange(0, 0.5, 0.01)\n",
    "\n",
    "score = []\n",
    "y_true = np.array(y_val).ravel()\n",
    "for t in thres:\n",
    "    y_pred_seq = classify(pred_prob, t)\n",
    "    y_pred = np.array(y_pred_seq).ravel()\n",
    "    score.append(metrics.f1_score(y_true, y_pred))\n",
    "\n",
    "# find optimum\n",
    "opt = thres[score.index(max(score))]\n",
    "opt"
   ]
  },
  {
   "cell_type": "code",
   "execution_count": 28,
   "metadata": {},
   "outputs": [
    {
     "name": "stdout",
     "output_type": "stream",
     "text": [
      "              precision    recall  f1-score   support\n",
      "\n",
      "           0       0.96      0.90      0.93      1152\n",
      "           1       0.77      0.89      0.83       432\n",
      "\n",
      "    accuracy                           0.90      1584\n",
      "   macro avg       0.86      0.90      0.88      1584\n",
      "weighted avg       0.91      0.90      0.90      1584\n",
      "\n"
     ]
    }
   ],
   "source": [
    "# get metrics based on optimum\n",
    "y_pred_seq = classify(pred_prob, opt)\n",
    "y_pred = np.array(y_pred_seq).ravel()\n",
    "print(metrics.classification_report(y_true, y_pred))"
   ]
  }
 ],
 "metadata": {
  "kernelspec": {
   "display_name": "tensorflow",
   "language": "python",
   "name": "python3"
  },
  "language_info": {
   "codemirror_mode": {
    "name": "ipython",
    "version": 3
   },
   "file_extension": ".py",
   "mimetype": "text/x-python",
   "name": "python",
   "nbconvert_exporter": "python",
   "pygments_lexer": "ipython3",
   "version": "3.8.13"
  }
 },
 "nbformat": 4,
 "nbformat_minor": 2
}
